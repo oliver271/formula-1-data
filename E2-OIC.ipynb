{
 "cells": [
  {
   "cell_type": "markdown",
   "id": "61ed8697-537a-418a-9375-bb4bb77a66a9",
   "metadata": {},
   "source": [
    "# <span style='color:green'> <center>Entrega 2-sprintResults-status-results-pitStops.</center> </span>\n",
    "### by: **Oliver Iñiguez.**"
   ]
  },
  {
   "cell_type": "code",
   "execution_count": 1,
   "id": "4c091383-1251-46ee-a362-a8174c1cf5e0",
   "metadata": {},
   "outputs": [],
   "source": [
    "import requests\n",
    "import json\n",
    "import pandas as pd\n",
    "import warnings\n",
    "warnings.filterwarnings('ignore')"
   ]
  },
  {
   "cell_type": "code",
   "execution_count": null,
   "id": "8ed37e40-72b9-4e22-9802-5a5539b1c413",
   "metadata": {},
   "outputs": [],
   "source": [
    "sprintResults = {''}"
   ]
  }
 ],
 "metadata": {
  "kernelspec": {
   "display_name": "Python 3 (ipykernel)",
   "language": "python",
   "name": "python3"
  },
  "language_info": {
   "codemirror_mode": {
    "name": "ipython",
    "version": 3
   },
   "file_extension": ".py",
   "mimetype": "text/x-python",
   "name": "python",
   "nbconvert_exporter": "python",
   "pygments_lexer": "ipython3",
   "version": "3.9.12"
  }
 },
 "nbformat": 4,
 "nbformat_minor": 5
}
